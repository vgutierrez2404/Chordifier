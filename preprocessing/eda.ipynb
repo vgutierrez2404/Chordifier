{
 "cells": [
  {
   "cell_type": "code",
   "execution_count": 2,
   "metadata": {},
   "outputs": [],
   "source": [
    "import numpy as np \n",
    "import pandas as pd \n",
    "import matplotlib.pyplot as plt \n",
    "import librosa \n",
    "import librosa.display\n",
    "import IPython.display as ipd\n",
    "import os \n",
    "from tqdm import tqdm"
   ]
  },
  {
   "cell_type": "code",
   "execution_count": 3,
   "metadata": {},
   "outputs": [
    {
     "data": {
      "text/html": [
       "<div>\n",
       "<style scoped>\n",
       "    .dataframe tbody tr th:only-of-type {\n",
       "        vertical-align: middle;\n",
       "    }\n",
       "\n",
       "    .dataframe tbody tr th {\n",
       "        vertical-align: top;\n",
       "    }\n",
       "\n",
       "    .dataframe thead th {\n",
       "        text-align: right;\n",
       "    }\n",
       "</style>\n",
       "<table border=\"1\" class=\"dataframe\">\n",
       "  <thead>\n",
       "    <tr style=\"text-align: right;\">\n",
       "      <th></th>\n",
       "      <th>file_name</th>\n",
       "      <th>label</th>\n",
       "      <th>instrument</th>\n",
       "      <th>type_of_sound</th>\n",
       "      <th>root_note</th>\n",
       "      <th>chord_type</th>\n",
       "    </tr>\n",
       "  </thead>\n",
       "  <tbody>\n",
       "    <tr>\n",
       "      <th>0</th>\n",
       "      <td>0000.wav</td>\n",
       "      <td>C:maj</td>\n",
       "      <td>non_guitar</td>\n",
       "      <td>Jazz_Organ</td>\n",
       "      <td>C</td>\n",
       "      <td>maj</td>\n",
       "    </tr>\n",
       "    <tr>\n",
       "      <th>1</th>\n",
       "      <td>0001.wav</td>\n",
       "      <td>C:maj/3</td>\n",
       "      <td>non_guitar</td>\n",
       "      <td>Jazz_Organ</td>\n",
       "      <td>C</td>\n",
       "      <td>maj/3</td>\n",
       "    </tr>\n",
       "    <tr>\n",
       "      <th>2</th>\n",
       "      <td>0002.wav</td>\n",
       "      <td>C:maj/5</td>\n",
       "      <td>non_guitar</td>\n",
       "      <td>Jazz_Organ</td>\n",
       "      <td>C</td>\n",
       "      <td>maj/5</td>\n",
       "    </tr>\n",
       "    <tr>\n",
       "      <th>3</th>\n",
       "      <td>0003.wav</td>\n",
       "      <td>C#:maj</td>\n",
       "      <td>non_guitar</td>\n",
       "      <td>Jazz_Organ</td>\n",
       "      <td>C#</td>\n",
       "      <td>maj</td>\n",
       "    </tr>\n",
       "    <tr>\n",
       "      <th>4</th>\n",
       "      <td>0004.wav</td>\n",
       "      <td>C#:maj/3</td>\n",
       "      <td>non_guitar</td>\n",
       "      <td>Jazz_Organ</td>\n",
       "      <td>C#</td>\n",
       "      <td>maj/3</td>\n",
       "    </tr>\n",
       "  </tbody>\n",
       "</table>\n",
       "</div>"
      ],
      "text/plain": [
       "  file_name     label  instrument type_of_sound root_note chord_type\n",
       "0  0000.wav     C:maj  non_guitar    Jazz_Organ         C        maj\n",
       "1  0001.wav   C:maj/3  non_guitar    Jazz_Organ         C      maj/3\n",
       "2  0002.wav   C:maj/5  non_guitar    Jazz_Organ         C      maj/5\n",
       "3  0003.wav    C#:maj  non_guitar    Jazz_Organ        C#        maj\n",
       "4  0004.wav  C#:maj/3  non_guitar    Jazz_Organ        C#      maj/3"
      ]
     },
     "execution_count": 3,
     "metadata": {},
     "output_type": "execute_result"
    }
   ],
   "source": [
    "audio_dataframe = pd.read_csv('../data/extracted_dataframes/label_dataframe.csv') \n",
    "audio_dataframe.head()"
   ]
  },
  {
   "cell_type": "code",
   "execution_count": 4,
   "metadata": {},
   "outputs": [],
   "source": [
    "def plot_histogram(data_frame: pd.DataFrame, title: str, x_label: str, y_label: str) -> plt.figure:\n",
    "    \"\"\"\n",
    "    Plot a histogram of the given data frame.\n",
    "\n",
    "    Parameters:\n",
    "    data_frame (pandas.DataFrame): The data frame containing the data to be plotted.\n",
    "    title (str): The title of the histogram.\n",
    "    x_label (str): The label for the x-axis.\n",
    "    y_label (str): The label for the y-axis.\n",
    "    \"\"\"\n",
    "    plt.figure(figsize=(16, 6))\n",
    "    colors = plt.cm.viridis(np.linspace(0, 1, len(data_frame.unique())))\n",
    "    ax = data_frame.value_counts().plot(kind='bar', color=colors)\n",
    "    plt.title(title)\n",
    "    plt.xlabel(x_label)\n",
    "    plt.ylabel(y_label)\n",
    "    for p in ax.patches:\n",
    "        ax.annotate(str(p.get_height()), (p.get_x() * 1.005, p.get_height() * 1.005))\n",
    "\n",
    "    plt.show()\n"
   ]
  },
  {
   "cell_type": "code",
   "execution_count": null,
   "metadata": {},
   "outputs": [],
   "source": [
    "plot_histogram(audio_dataframe['instrument'], 'Instrument Distribution', 'Instrument', 'Count') \n",
    "plot_histogram(audio_dataframe['type_of_sound'], 'Type of Sound Distribution', 'Type of Sound', 'Count')\n",
    "plot_histogram(audio_dataframe['root_note'], 'Root Note Distribution', 'Root Note', 'Count')\n",
    "plot_histogram(audio_dataframe['chord_type'], 'Chord Type Distribution', 'Chord Type', 'Count')"
   ]
  },
  {
   "cell_type": "code",
   "execution_count": 9,
   "metadata": {},
   "outputs": [],
   "source": [
    "n_chroma=12 # Number of pitches (C, C#, D, D#, ... B)\n",
    "n_octaves=7 # Number of octaves used in the analysis\n",
    "hop_length = int(44.1e3*2)\n",
    "n_mels = 128\n",
    "n_fft = hop_length # Length of the FFT window\n",
    "\n",
    "def plot_chromagram(audio_file: str, n_chroma=12, n_octaves=7, hop_length=int(44.1e3*2)) ->  plt.figure:\n",
    "    \"\"\"\n",
    "    Plot the chromagram of an audio file.\n",
    "\n",
    "    Parameters:\n",
    "    audio_file (str): The path to the audio file.\n",
    "\n",
    "    Returns:\n",
    "    None\n",
    "    \"\"\"\n",
    "\n",
    "    x, sr = librosa.load(audio_file, sr=None)\n",
    "    chromagram = librosa.feature.chroma_cqt(y=x, sr=sr, n_chroma=n_chroma, n_octaves=n_octaves, hop_length=hop_length)\n",
    "    print(chromagram.shape)\n",
    "    plt.figure(figsize=(16, 6))\n",
    "    plt.imshow(chromagram, origin='lower', aspect='auto', cmap='hot')\n",
    "    plt.title(f'Chromagram {os.path.split(audio_file)[-1].split(\".\")[0]}')\n",
    "    plt.xlabel('Time')\n",
    "    plt.ylabel('Pitch Class')\n",
    "    plt.colorbar()\n",
    "\n",
    "def save_chromagram(audio_file: str, n_chroma=12, n_octaves=7, hop_length=int(44.1e3*2)) -> plt.figure:\n",
    "    \"\"\"\n",
    "    Save the chromagram of an audio file.\n",
    "\n",
    "    Parameters:\n",
    "    audio_file (str): The path to the audio file.\n",
    "\n",
    "    Returns:\n",
    "    None\n",
    "    \"\"\"\n",
    "\n",
    "    x, sr = librosa.load(audio_file, sr=None)\n",
    "    chromagram = librosa.feature.chroma_cqt(y=x, sr=sr, n_chroma=n_chroma, n_octaves=n_octaves, hop_length=hop_length+1)\n",
    "    np.save(os.path.split('IDMT-SMT-CHORDS/chromagrams/'+ audio_file)[-1].split(\".\")[0] + \"_chromagram.npy\", chromagram)\n",
    "\n",
    "def plot_spectrogram(audio_file: str, n_mels = 128, n_fft = int(44.1e3 * 2)) -> plt.figure: \n",
    "    \"\"\"\n",
    "    Plots the Mel spectrogram of an audio file.\n",
    "\n",
    "    Parameters:\n",
    "    audio_file (str): Path to the audio file to be processed.\n",
    "    n_mels (int): Number of Mel bands to generate. Default is 128.\n",
    "    n_fft (int): Length of the FFT window. Default is twice the sample rate (44.1 kHz * 2).\n",
    "\n",
    "    Returns:\n",
    "    None: This function does not return any value. It displays a plot of the Mel spectrogram.\n",
    "    \"\"\"\n",
    "\n",
    "    x, sr = librosa.load(audio_file, sr=None)\n",
    "    S_mel = librosa.feature.melspectrogram(y=x, sr=sr, n_mels=n_mels, n_fft=n_fft, hop_length=hop_length)\n",
    "    S_mel_log = librosa.power_to_db(abs(S_mel))\n",
    "    librosa.display.specshow(S_mel_log, sr=sr, hop_length=hop_length, x_axis='time', y_axis='mel', fmin=0, fmax=sr/2)\n",
    "    plt.title(f'Mel Spectogram {os.path.split(audio_file)[-1].split(\".\")[0]}')\n",
    "    plt.tight_layout()\n",
    "    plt.grid()\n",
    "    plt.colorbar(format='%+2.0f dB')\n",
    "\n",
    "def save_spectrogram(audio_file: str, n_mels = 128, n_fft = int(44.1e3 * 2)) -> None:\n",
    "    \"\"\"\n",
    "    Saves the Mel spectrogram of an audio file as a .npy file.\n",
    "\n",
    "    Parameters:\n",
    "    audio_file (str): Path to the audio file to be processed.\n",
    "    n_mels (int): Number of Mel bands to generate. Default is 128.\n",
    "    n_fft (int): Length of the FFT window. Default is twice the sample rate (44.1 kHz * 2).\n",
    "\n",
    "    Returns:\n",
    "    None: This function does not return any value. It saves the Mel spectrogram to a .npy file.\n",
    "    \"\"\"\n",
    "\n",
    "    x, sr = librosa.load(audio_file, sr=None)\n",
    "    S_mel = librosa.feature.melspectrogram(y=x, sr=sr, n_mels=n_mels, n_fft=n_fft, hop_length=hop_length)\n",
    "    S_mel_log = librosa.power_to_db(abs(S_mel))\n",
    "    np.save(os.path.split('IDMT-SMT-CHORDS/spectrograms/'+ audio_file)[-1].split(\".\")[0] + \"_spectrogram.npy\", S_mel_log)"
   ]
  },
  {
   "cell_type": "code",
   "execution_count": null,
   "metadata": {},
   "outputs": [],
   "source": [
    "for dir_path, _, filenames in tqdm(os.walk('../trimmed_audio')):\n",
    "    for file_name in filenames:\n",
    "        save_chromagram(dir_path + '/' + file_name)\n",
    "        plt.show()"
   ]
  },
  {
   "cell_type": "markdown",
   "metadata": {},
   "source": [
    "Plot the chromagrams"
   ]
  },
  {
   "cell_type": "code",
   "execution_count": null,
   "metadata": {},
   "outputs": [],
   "source": [
    "save = False\n",
    "for dir_path, _, filenames in tqdm(os.walk('../data/raw')):\n",
    "    for file_name in filenames:\n",
    "        plot_chromagram(dir_path + '/' + file_name)\n",
    "        if save: \n",
    "            save_chromagram(dir_path + '/' + file_name)\n",
    "        plt.show()"
   ]
  },
  {
   "cell_type": "markdown",
   "metadata": {},
   "source": [
    "Las franjas negras que se ven en el chromagram se pueden (se corresponden) corresponder con los acordes de quinta -> resultado a poner en las diapositivas del eda"
   ]
  },
  {
   "cell_type": "markdown",
   "metadata": {},
   "source": [
    "Plot the spectrograms"
   ]
  },
  {
   "cell_type": "code",
   "execution_count": null,
   "metadata": {},
   "outputs": [],
   "source": [
    "for dir_path, _, filenames in tqdm(os.walk('../data/raw')):\n",
    "    for file_name in tqdm(filenames):\n",
    "        plot_spectrogram(dir_path + '/' + file_name)\n",
    "        if save:\n",
    "            save_spectrogram(dir_path + '/' + file_name)    \n",
    "        plt.show()"
   ]
  }
 ],
 "metadata": {
  "kernelspec": {
   "display_name": "Python 3",
   "language": "python",
   "name": "python3"
  },
  "language_info": {
   "codemirror_mode": {
    "name": "ipython",
    "version": 3
   },
   "file_extension": ".py",
   "mimetype": "text/x-python",
   "name": "python",
   "nbconvert_exporter": "python",
   "pygments_lexer": "ipython3",
   "version": "3.11.5"
  }
 },
 "nbformat": 4,
 "nbformat_minor": 2
}
