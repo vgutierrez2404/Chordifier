{
 "cells": [
  {
   "cell_type": "code",
   "execution_count": 60,
   "metadata": {},
   "outputs": [],
   "source": [
    "import os \n",
    "import pandas as pd\n",
    "from pydub import AudioSegment\n",
    "import re"
   ]
  },
  {
   "cell_type": "code",
   "execution_count": 61,
   "metadata": {},
   "outputs": [],
   "source": [
    "guitar_path = './IDMT-SMT-CHORDS/guitar'\n",
    "non_guitar_path = './IDMT-SMT-CHORDS/non_guitar'\n",
    "raw_data_path = './IDMT-SMT-CHORDS/raw_data'    "
   ]
  },
  {
   "cell_type": "code",
   "execution_count": 62,
   "metadata": {},
   "outputs": [],
   "source": [
    "guitar_annotations = pd.read_csv(os.path.join(guitar_path,'guitar_annotation.lab'), sep = '\\t', header = 0, names =['start_time', 'end_time', 'chord'])\n",
    "non_guitar_annotations = pd.read_csv(os.path.join(non_guitar_path,'non_guitar_annotation.lab'), sep = '\\t', header = 0, names =['start_time', 'end_time', 'chord'])"
   ]
  },
  {
   "cell_type": "code",
   "execution_count": 64,
   "metadata": {},
   "outputs": [],
   "source": [
    "def obtain_type_of_sound(file_name):\n",
    "    pattern = r'_([A-Z]\\w*)\\.wav$' # r'_(\\w+)\\.wav$'\n",
    "    match = re.search(pattern, file_name)   \n",
    "    if match:\n",
    "        return match.group(1)\n",
    "    \n",
    "def trim_audio(file_name, index, label_dict, label_dataframe, guitar_flag):\n",
    "\n",
    "    audio = AudioSegment.from_wav(file_name)\n",
    "    duration = len(audio) \n",
    "\n",
    "    start_time = 0 \n",
    "    end_time = 2000\n",
    "     \n",
    "    dataframe_index = 0 \n",
    "    while start_time < duration:    \n",
    "        # Save the audio fragment\n",
    "        index_str = f\"{str(index).zfill(4)}.wav\"\n",
    "        trimmed_audio = audio[start_time:end_time]\n",
    "        trimmed_audio.export('trimmed_audio/' + index_str, format=\"wav\")\n",
    "        start_time = end_time\n",
    "        end_time = end_time + 2000\n",
    "        \n",
    "        # Get label to the dictionary and update it \n",
    "        dataframe = guitar_annotations if guitar_flag else non_guitar_annotations   \n",
    "        label_dict[index_str] = dataframe.iloc[dataframe_index]['chord']  \n",
    "\n",
    "        type_of_sound = obtain_type_of_sound(file_name) \n",
    "        instrument = 'guitar' if guitar_flag else 'non_guitar'  \n",
    "        label_dataframe.loc[index] = [index_str, label_dict[index_str], instrument, type_of_sound]  \n",
    "        # Update indexes    \n",
    "        dataframe_index += 1     \n",
    "        index += 1\n",
    "\n",
    "    return index, label_dict, label_dataframe"
   ]
  },
  {
   "cell_type": "code",
   "execution_count": 66,
   "metadata": {},
   "outputs": [
    {
     "name": "stdout",
     "output_type": "stream",
     "text": [
      "./IDMT-SMT-CHORDS/raw_data/garageband_piano_Jazz_Organ.wav\n",
      "./IDMT-SMT-CHORDS/raw_data garageband_piano_Jazz_Organ.wav\n",
      "./IDMT-SMT-CHORDS/raw_data/ableton_live_piano_Sweetness_Pad.wav\n",
      "./IDMT-SMT-CHORDS/raw_data ableton_live_piano_Sweetness_Pad.wav\n",
      "./IDMT-SMT-CHORDS/raw_data/ableton_live_guitar_Nylon_Concerto_Guitar.wav\n",
      "./IDMT-SMT-CHORDS/raw_data ableton_live_guitar_Nylon_Concerto_Guitar.wav\n",
      "./IDMT-SMT-CHORDS/raw_data/ableton_live_guitar_Guitar_Open.wav\n",
      "./IDMT-SMT-CHORDS/raw_data ableton_live_guitar_Guitar_Open.wav\n",
      "./IDMT-SMT-CHORDS/raw_data/ableton_live_guitar_Campfire.wav\n",
      "./IDMT-SMT-CHORDS/raw_data ableton_live_guitar_Campfire.wav\n",
      "./IDMT-SMT-CHORDS/raw_data/ableton_live_piano_Celestial_Pad.wav\n",
      "./IDMT-SMT-CHORDS/raw_data ableton_live_piano_Celestial_Pad.wav\n",
      "./IDMT-SMT-CHORDS/raw_data/ableton_live_piano_Sadness_Pad.wav\n",
      "./IDMT-SMT-CHORDS/raw_data ableton_live_piano_Sadness_Pad.wav\n",
      "./IDMT-SMT-CHORDS/raw_data/ableton_live_piano_Grand_Piano.wav\n",
      "./IDMT-SMT-CHORDS/raw_data ableton_live_piano_Grand_Piano.wav\n",
      "./IDMT-SMT-CHORDS/raw_data/garageband_guitar_Classic_Clean.wav\n",
      "./IDMT-SMT-CHORDS/raw_data garageband_guitar_Classic_Clean.wav\n",
      "./IDMT-SMT-CHORDS/raw_data/garageband_guitar_Acoustic_Guitar.wav\n",
      "./IDMT-SMT-CHORDS/raw_data garageband_guitar_Acoustic_Guitar.wav\n",
      "./IDMT-SMT-CHORDS/raw_data/garageband_guitar_Hard_Rock.wav\n",
      "./IDMT-SMT-CHORDS/raw_data garageband_guitar_Hard_Rock.wav\n",
      "./IDMT-SMT-CHORDS/raw_data/garageband_piano_Steinway_Grand_Piano.wav\n",
      "./IDMT-SMT-CHORDS/raw_data garageband_piano_Steinway_Grand_Piano.wav\n",
      "./IDMT-SMT-CHORDS/raw_data/garageband_piano_Boesendorfer Grand Piano.wav\n",
      "./IDMT-SMT-CHORDS/raw_data garageband_piano_Boesendorfer Grand Piano.wav\n",
      "./IDMT-SMT-CHORDS/raw_data/garageband_piano_Deluxe_Modern.wav\n",
      "./IDMT-SMT-CHORDS/raw_data garageband_piano_Deluxe_Modern.wav\n",
      "./IDMT-SMT-CHORDS/raw_data/ableton_live_piano_Piano_to_Pad_electric_piano.wav\n",
      "./IDMT-SMT-CHORDS/raw_data ableton_live_piano_Piano_to_Pad_electric_piano.wav\n",
      "./IDMT-SMT-CHORDS/raw_data/ableton_live_piano_Grand_Piano_Reverb.wav\n",
      "./IDMT-SMT-CHORDS/raw_data ableton_live_piano_Grand_Piano_Reverb.wav\n"
     ]
    }
   ],
   "source": [
    "label_dict = {} \n",
    "label_dataframe = pd.DataFrame(columns=['file_name', 'label', 'instrument', 'type_of_sound'])        \n",
    "directory_path = os.makedirs('trimmed_audio', exist_ok=True)\n",
    "for path, _, filenames in os.walk(raw_data_path):\n",
    "        index = 0\n",
    "        for filename in filenames:\n",
    "                if filename.endswith('.wav'):\n",
    "                        guitar_flag = 'guitar' in filename \n",
    "                        print(os.path.join(path, filename))\n",
    "                        index, label_dict, label_dataframe = trim_audio(os.path.join(path, filename), index, label_dict, label_dataframe, guitar_flag)\n",
    "                        print(path, filename)\n",
    "\n",
    "dictionary = pd.DataFrame.from_dict(label_dict, orient='index')  \n",
    "dictionary.to_csv('label_dictionary.csv', header=False)              \n",
    "label_dataframe.to_csv('label_dataframe.csv', header=True)"
   ]
  },
  {
   "cell_type": "code",
   "execution_count": null,
   "metadata": {},
   "outputs": [],
   "source": [
    "guitar_annotations.head()"
   ]
  },
  {
   "cell_type": "code",
   "execution_count": null,
   "metadata": {},
   "outputs": [],
   "source": [
    "non_guitar_annotations.head()   "
   ]
  },
  {
   "cell_type": "code",
   "execution_count": null,
   "metadata": {},
   "outputs": [],
   "source": [
    "print(f'El numero de acordes que vamos a tener en total es {(273*6)+(576*10)} por lo que vamos a necesitar 4 digitos')"
   ]
  }
 ],
 "metadata": {
  "kernelspec": {
   "display_name": "Python 3",
   "language": "python",
   "name": "python3"
  },
  "language_info": {
   "codemirror_mode": {
    "name": "ipython",
    "version": 3
   },
   "file_extension": ".py",
   "mimetype": "text/x-python",
   "name": "python",
   "nbconvert_exporter": "python",
   "pygments_lexer": "ipython3",
   "version": "3.11.5"
  }
 },
 "nbformat": 4,
 "nbformat_minor": 2
}
