{
 "cells": [
  {
   "cell_type": "code",
   "execution_count": 1,
   "metadata": {},
   "outputs": [],
   "source": [
    "import os \n",
    "import pandas as pd\n",
    "from pydub import AudioSegment"
   ]
  },
  {
   "cell_type": "code",
   "execution_count": 2,
   "metadata": {},
   "outputs": [],
   "source": [
    "def trim_audio(file_name):\n",
    "\n",
    "    audio = AudioSegment.from_wav(file_name)\n",
    "    duration = len(audio) \n",
    "\n",
    "    start_time = 0 \n",
    "    end_time = 2000 \n",
    "    \n",
    "    directory_path = os.makedirs('trimmed_audio', exist_ok=True)\n",
    "    index = 0 \n",
    "\n",
    "    while start_time < duration:    \n",
    "        trimmed_audio = audio[start_time:end_time]\n",
    "        trimmed_audio.export('trimmed_audio/' + file_name.split('/')[-1].split('.')[0] + '_trimmed_' + str(index) + '.wav', format=\"wav\")\n",
    "        start_time = end_time\n",
    "        end_time = end_time + 2000\n",
    "        index += 1\n"
   ]
  },
  {
   "cell_type": "code",
   "execution_count": 7,
   "metadata": {},
   "outputs": [],
   "source": [
    "guitar_path = './IDMT-SMT-CHORDS/guitar'\n",
    "non_guitar_path = './IDMT-SMT-CHORDS/non_guitar'"
   ]
  },
  {
   "cell_type": "code",
   "execution_count": 8,
   "metadata": {},
   "outputs": [
    {
     "name": "stdout",
     "output_type": "stream",
     "text": [
      "ableton_live_guitar_Nylon_Concerto_Guitar.wav\n",
      "ableton_live_guitar_Guitar_Open.wav\n",
      "ableton_live_guitar_Campfire.wav\n",
      "garageband_guitar_Classic_Clean.wav\n",
      "garageband_guitar_Acoustic_Guitar.wav\n",
      "garageband_guitar_Hard_Rock.wav\n"
     ]
    }
   ],
   "source": [
    "for path in os.listdir(guitar_path):\n",
    "    if not path.endswith('lab'): \n",
    "        \n",
    "        print(path)"
   ]
  },
  {
   "cell_type": "code",
   "execution_count": 5,
   "metadata": {},
   "outputs": [],
   "source": [
    "os.path.join(guitar_path,'guitar_annotation.lab',sep=\"/\")\n",
    "guitar_annotations = pd.read_csv('/Users/victorgutierrezgarcia/Desktop/lsma_project/IDMT-SMT-CHORDS/guitar/guitar_annotation.lab', sep = '\\t', header = 0, names =['start_time', 'end_time', 'chord'])\n",
    "non_guitar_annotations = pd.read_csv('/Users/victorgutierrezgarcia/Desktop/lsma_project/IDMT-SMT-CHORDS/non_guitar/non_guitar_annotation.lab', sep = '\\t', header = 0, names =['start_time', 'end_time', 'chord'])"
   ]
  },
  {
   "cell_type": "code",
   "execution_count": 6,
   "metadata": {},
   "outputs": [
    {
     "data": {
      "text/html": [
       "<div>\n",
       "<style scoped>\n",
       "    .dataframe tbody tr th:only-of-type {\n",
       "        vertical-align: middle;\n",
       "    }\n",
       "\n",
       "    .dataframe tbody tr th {\n",
       "        vertical-align: top;\n",
       "    }\n",
       "\n",
       "    .dataframe thead th {\n",
       "        text-align: right;\n",
       "    }\n",
       "</style>\n",
       "<table border=\"1\" class=\"dataframe\">\n",
       "  <thead>\n",
       "    <tr style=\"text-align: right;\">\n",
       "      <th></th>\n",
       "      <th>start_time</th>\n",
       "      <th>end_time</th>\n",
       "      <th>chord</th>\n",
       "    </tr>\n",
       "  </thead>\n",
       "  <tbody>\n",
       "    <tr>\n",
       "      <th>0</th>\n",
       "      <td>0.0</td>\n",
       "      <td>2.0</td>\n",
       "      <td>E:maj</td>\n",
       "    </tr>\n",
       "    <tr>\n",
       "      <th>1</th>\n",
       "      <td>2.0</td>\n",
       "      <td>4.0</td>\n",
       "      <td>F:maj</td>\n",
       "    </tr>\n",
       "    <tr>\n",
       "      <th>2</th>\n",
       "      <td>4.0</td>\n",
       "      <td>6.0</td>\n",
       "      <td>F#:maj</td>\n",
       "    </tr>\n",
       "    <tr>\n",
       "      <th>3</th>\n",
       "      <td>6.0</td>\n",
       "      <td>8.0</td>\n",
       "      <td>G:maj</td>\n",
       "    </tr>\n",
       "    <tr>\n",
       "      <th>4</th>\n",
       "      <td>8.0</td>\n",
       "      <td>10.0</td>\n",
       "      <td>G#:maj</td>\n",
       "    </tr>\n",
       "  </tbody>\n",
       "</table>\n",
       "</div>"
      ],
      "text/plain": [
       "   start_time  end_time   chord\n",
       "0         0.0       2.0   E:maj\n",
       "1         2.0       4.0   F:maj\n",
       "2         4.0       6.0  F#:maj\n",
       "3         6.0       8.0   G:maj\n",
       "4         8.0      10.0  G#:maj"
      ]
     },
     "execution_count": 6,
     "metadata": {},
     "output_type": "execute_result"
    }
   ],
   "source": [
    "guitar_annotations.head()"
   ]
  },
  {
   "cell_type": "code",
   "execution_count": 55,
   "metadata": {},
   "outputs": [
    {
     "data": {
      "text/html": [
       "<div>\n",
       "<style scoped>\n",
       "    .dataframe tbody tr th:only-of-type {\n",
       "        vertical-align: middle;\n",
       "    }\n",
       "\n",
       "    .dataframe tbody tr th {\n",
       "        vertical-align: top;\n",
       "    }\n",
       "\n",
       "    .dataframe thead th {\n",
       "        text-align: right;\n",
       "    }\n",
       "</style>\n",
       "<table border=\"1\" class=\"dataframe\">\n",
       "  <thead>\n",
       "    <tr style=\"text-align: right;\">\n",
       "      <th></th>\n",
       "      <th>start_time</th>\n",
       "      <th>end_time</th>\n",
       "      <th>chord</th>\n",
       "    </tr>\n",
       "  </thead>\n",
       "  <tbody>\n",
       "    <tr>\n",
       "      <th>0</th>\n",
       "      <td>0.0</td>\n",
       "      <td>2.0</td>\n",
       "      <td>C:maj</td>\n",
       "    </tr>\n",
       "    <tr>\n",
       "      <th>1</th>\n",
       "      <td>2.0</td>\n",
       "      <td>4.0</td>\n",
       "      <td>C:maj/3</td>\n",
       "    </tr>\n",
       "    <tr>\n",
       "      <th>2</th>\n",
       "      <td>4.0</td>\n",
       "      <td>6.0</td>\n",
       "      <td>C:maj/5</td>\n",
       "    </tr>\n",
       "    <tr>\n",
       "      <th>3</th>\n",
       "      <td>6.0</td>\n",
       "      <td>8.0</td>\n",
       "      <td>C#:maj</td>\n",
       "    </tr>\n",
       "    <tr>\n",
       "      <th>4</th>\n",
       "      <td>8.0</td>\n",
       "      <td>10.0</td>\n",
       "      <td>C#:maj/3</td>\n",
       "    </tr>\n",
       "  </tbody>\n",
       "</table>\n",
       "</div>"
      ],
      "text/plain": [
       "   start_time  end_time     chord\n",
       "0         0.0       2.0     C:maj\n",
       "1         2.0       4.0   C:maj/3\n",
       "2         4.0       6.0   C:maj/5\n",
       "3         6.0       8.0    C#:maj\n",
       "4         8.0      10.0  C#:maj/3"
      ]
     },
     "execution_count": 55,
     "metadata": {},
     "output_type": "execute_result"
    }
   ],
   "source": [
    "non_guitar_annotations.head()   "
   ]
  },
  {
   "cell_type": "code",
   "execution_count": null,
   "metadata": {},
   "outputs": [],
   "source": []
  }
 ],
 "metadata": {
  "kernelspec": {
   "display_name": "Python 3",
   "language": "python",
   "name": "python3"
  },
  "language_info": {
   "codemirror_mode": {
    "name": "ipython",
    "version": 3
   },
   "file_extension": ".py",
   "mimetype": "text/x-python",
   "name": "python",
   "nbconvert_exporter": "python",
   "pygments_lexer": "ipython3",
   "version": "3.11.5"
  }
 },
 "nbformat": 4,
 "nbformat_minor": 2
}
